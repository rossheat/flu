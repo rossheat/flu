{
 "cells": [
  {
   "cell_type": "code",
   "execution_count": 27,
   "metadata": {},
   "outputs": [],
   "source": [
    "from Bio import SeqIO\n",
    "import os"
   ]
  },
  {
   "cell_type": "code",
   "execution_count": 28,
   "metadata": {},
   "outputs": [
    {
     "name": "stdout",
     "output_type": "stream",
     "text": [
      "PQ422726.1 Influenza A virus (A/California/LACPHL-INF00519/2024(H1N1)) segment 1 polymerase PB2 (PB2) gene, complete cds\n",
      "PQ422725.1 Influenza A virus (A/California/LACPHL-INF00519/2024(H1N1)) segment 2 polymerase PB1 (PB1) gene, complete cds; and nonfunctional PB1-F2 protein (PB1-F2) gene, complete sequence\n",
      "PQ422724.1 Influenza A virus (A/California/LACPHL-INF00519/2024(H1N1)) segment 3 polymerase PA (PA) and PA-X protein (PA-X) genes, complete cds\n",
      "PQ422719.1 Influenza A virus (A/California/LACPHL-INF00519/2024(H1N1)) segment 4 hemagglutinin (HA) gene, complete cds\n",
      "PQ422722.1 Influenza A virus (A/California/LACPHL-INF00519/2024(H1N1)) segment 5 nucleocapsid protein (NP) gene, complete cds\n",
      "PQ422721.1 Influenza A virus (A/California/LACPHL-INF00519/2024(H1N1)) segment 6 neuraminidase (NA) gene, complete cds\n",
      "PQ422720.1 Influenza A virus (A/California/LACPHL-INF00519/2024(H1N1)) segment 7 matrix protein 2 (M2) and matrix protein 1 (M1) genes, complete cds\n",
      "PQ422723.1 Influenza A virus (A/California/LACPHL-INF00519/2024(H1N1)) segment 8 nuclear export protein (NEP) and nonstructural protein 1 (NS1) genes, complete cds\n"
     ]
    },
    {
     "data": {
      "text/plain": [
       "[None, None, None, None, None, None, None, None]"
      ]
     },
     "execution_count": 28,
     "metadata": {},
     "output_type": "execute_result"
    }
   ],
   "source": [
    "\n",
    "genome_fasta = os.path.join(\"data\", \"GCA_042608115.1_ASM4260811v1_genomic.fna\")\n",
    "genome_seq_records = list(SeqIO.parse(genome_fasta, \"fasta\")); \n",
    "assert len(genome_seq_records) == 8, \"There should be 8 sequences in the FASTA file\"\n",
    "genome_seq_records\n",
    "[print(seq.description) for seq in genome_seq_records]"
   ]
  },
  {
   "cell_type": "code",
   "execution_count": 29,
   "metadata": {},
   "outputs": [
    {
     "name": "stdout",
     "output_type": "stream",
     "text": [
      "XHO48323.1 hemagglutinin [Influenza A virus]\n",
      "XHO48324.1 matrix protein 1 [Influenza A virus]\n",
      "XHO48325.1 matrix protein 2 [Influenza A virus]\n",
      "XHO48326.1 neuraminidase [Influenza A virus]\n",
      "XHO48327.1 nucleocapsid protein [Influenza A virus]\n",
      "XHO48328.1 nonstructural protein 1 [Influenza A virus]\n",
      "XHO48329.1 nuclear export protein [Influenza A virus]\n",
      "XHO48330.1 polymerase PA [Influenza A virus]\n",
      "XHO48331.1 PA-X protein [Influenza A virus]\n",
      "XHO48332.1 polymerase PB1 [Influenza A virus]\n",
      "XHO48333.1 polymerase PB2 [Influenza A virus]\n"
     ]
    },
    {
     "data": {
      "text/plain": [
       "[None, None, None, None, None, None, None, None, None, None, None]"
      ]
     },
     "execution_count": 29,
     "metadata": {},
     "output_type": "execute_result"
    }
   ],
   "source": [
    "protein_fasta = os.path.join(\"data\", \"protein.faa\")\n",
    "protein_seq_records = list(SeqIO.parse(protein_fasta, \"fasta\"))\n",
    "assert len(protein_seq_records) == 11, \"There should be 11 sequences in the FASTA file\"\n",
    "[print(seq.description) for seq in protein_seq_records]"
   ]
  },
  {
   "cell_type": "code",
   "execution_count": null,
   "metadata": {},
   "outputs": [],
   "source": []
  }
 ],
 "metadata": {
  "kernelspec": {
   "display_name": "flu",
   "language": "python",
   "name": "python3"
  },
  "language_info": {
   "codemirror_mode": {
    "name": "ipython",
    "version": 3
   },
   "file_extension": ".py",
   "mimetype": "text/x-python",
   "name": "python",
   "nbconvert_exporter": "python",
   "pygments_lexer": "ipython3",
   "version": "3.12.7"
  }
 },
 "nbformat": 4,
 "nbformat_minor": 2
}
